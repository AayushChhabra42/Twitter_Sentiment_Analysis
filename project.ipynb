{
 "cells": [
  {
   "cell_type": "code",
   "execution_count": 35,
   "id": "b7594ade",
   "metadata": {},
   "outputs": [],
   "source": [
    "import matplotlib as plt\n",
    "import numpy as np\n",
    "import pandas as pd\n",
    "import seaborn as sns\n",
    "import sklearn\n",
    "import gensim\n",
    "import re\n",
    "import tensorflow as tf"
   ]
  },
  {
   "cell_type": "markdown",
   "id": "e9e9fcef",
   "metadata": {},
   "source": [
    "# Importing Datasets #"
   ]
  },
  {
   "cell_type": "code",
   "execution_count": 36,
   "id": "db6cc154",
   "metadata": {},
   "outputs": [],
   "source": [
    "dataset=pd.read_csv(\"twitter_training.csv\")\n",
    "validation=pd.read_csv(\"twitter_validation.csv\")"
   ]
  },
  {
   "cell_type": "code",
   "execution_count": 37,
   "id": "91aa7984",
   "metadata": {},
   "outputs": [
    {
     "data": {
      "text/html": [
       "<div>\n",
       "<style scoped>\n",
       "    .dataframe tbody tr th:only-of-type {\n",
       "        vertical-align: middle;\n",
       "    }\n",
       "\n",
       "    .dataframe tbody tr th {\n",
       "        vertical-align: top;\n",
       "    }\n",
       "\n",
       "    .dataframe thead th {\n",
       "        text-align: right;\n",
       "    }\n",
       "</style>\n",
       "<table border=\"1\" class=\"dataframe\">\n",
       "  <thead>\n",
       "    <tr style=\"text-align: right;\">\n",
       "      <th></th>\n",
       "      <th>2401</th>\n",
       "      <th>Borderlands</th>\n",
       "      <th>Positive</th>\n",
       "      <th>im getting on borderlands and i will murder you all ,</th>\n",
       "    </tr>\n",
       "  </thead>\n",
       "  <tbody>\n",
       "    <tr>\n",
       "      <th>0</th>\n",
       "      <td>2401</td>\n",
       "      <td>Borderlands</td>\n",
       "      <td>Positive</td>\n",
       "      <td>I am coming to the borders and I will kill you...</td>\n",
       "    </tr>\n",
       "    <tr>\n",
       "      <th>1</th>\n",
       "      <td>2401</td>\n",
       "      <td>Borderlands</td>\n",
       "      <td>Positive</td>\n",
       "      <td>im getting on borderlands and i will kill you ...</td>\n",
       "    </tr>\n",
       "    <tr>\n",
       "      <th>2</th>\n",
       "      <td>2401</td>\n",
       "      <td>Borderlands</td>\n",
       "      <td>Positive</td>\n",
       "      <td>im coming on borderlands and i will murder you...</td>\n",
       "    </tr>\n",
       "    <tr>\n",
       "      <th>3</th>\n",
       "      <td>2401</td>\n",
       "      <td>Borderlands</td>\n",
       "      <td>Positive</td>\n",
       "      <td>im getting on borderlands 2 and i will murder ...</td>\n",
       "    </tr>\n",
       "    <tr>\n",
       "      <th>4</th>\n",
       "      <td>2401</td>\n",
       "      <td>Borderlands</td>\n",
       "      <td>Positive</td>\n",
       "      <td>im getting into borderlands and i can murder y...</td>\n",
       "    </tr>\n",
       "  </tbody>\n",
       "</table>\n",
       "</div>"
      ],
      "text/plain": [
       "   2401  Borderlands  Positive  \\\n",
       "0  2401  Borderlands  Positive   \n",
       "1  2401  Borderlands  Positive   \n",
       "2  2401  Borderlands  Positive   \n",
       "3  2401  Borderlands  Positive   \n",
       "4  2401  Borderlands  Positive   \n",
       "\n",
       "  im getting on borderlands and i will murder you all ,  \n",
       "0  I am coming to the borders and I will kill you...     \n",
       "1  im getting on borderlands and i will kill you ...     \n",
       "2  im coming on borderlands and i will murder you...     \n",
       "3  im getting on borderlands 2 and i will murder ...     \n",
       "4  im getting into borderlands and i can murder y...     "
      ]
     },
     "execution_count": 37,
     "metadata": {},
     "output_type": "execute_result"
    }
   ],
   "source": [
    "dataset.head()"
   ]
  },
  {
   "cell_type": "code",
   "execution_count": 38,
   "id": "064b8e84",
   "metadata": {},
   "outputs": [],
   "source": [
    "dataset.rename(columns={'2401':'id','Positive':'Label','im getting on borderlands and i will murder you all ,':'tweet_text'},inplace=True)"
   ]
  },
  {
   "cell_type": "code",
   "execution_count": 39,
   "id": "7b3e48b4",
   "metadata": {},
   "outputs": [
    {
     "data": {
      "text/html": [
       "<div>\n",
       "<style scoped>\n",
       "    .dataframe tbody tr th:only-of-type {\n",
       "        vertical-align: middle;\n",
       "    }\n",
       "\n",
       "    .dataframe tbody tr th {\n",
       "        vertical-align: top;\n",
       "    }\n",
       "\n",
       "    .dataframe thead th {\n",
       "        text-align: right;\n",
       "    }\n",
       "</style>\n",
       "<table border=\"1\" class=\"dataframe\">\n",
       "  <thead>\n",
       "    <tr style=\"text-align: right;\">\n",
       "      <th></th>\n",
       "      <th>3364</th>\n",
       "      <th>Facebook</th>\n",
       "      <th>Irrelevant</th>\n",
       "      <th>I mentioned on Facebook that I was struggling for motivation to go for a run the other day, which has been translated by Tom’s great auntie as ‘Hayley can’t get out of bed’ and told to his grandma, who now thinks I’m a lazy, terrible person 🤣</th>\n",
       "    </tr>\n",
       "  </thead>\n",
       "  <tbody>\n",
       "    <tr>\n",
       "      <th>0</th>\n",
       "      <td>352</td>\n",
       "      <td>Amazon</td>\n",
       "      <td>Neutral</td>\n",
       "      <td>BBC News - Amazon boss Jeff Bezos rejects clai...</td>\n",
       "    </tr>\n",
       "    <tr>\n",
       "      <th>1</th>\n",
       "      <td>8312</td>\n",
       "      <td>Microsoft</td>\n",
       "      <td>Negative</td>\n",
       "      <td>@Microsoft Why do I pay for WORD when it funct...</td>\n",
       "    </tr>\n",
       "    <tr>\n",
       "      <th>2</th>\n",
       "      <td>4371</td>\n",
       "      <td>CS-GO</td>\n",
       "      <td>Negative</td>\n",
       "      <td>CSGO matchmaking is so full of closet hacking,...</td>\n",
       "    </tr>\n",
       "    <tr>\n",
       "      <th>3</th>\n",
       "      <td>4433</td>\n",
       "      <td>Google</td>\n",
       "      <td>Neutral</td>\n",
       "      <td>Now the President is slapping Americans in the...</td>\n",
       "    </tr>\n",
       "    <tr>\n",
       "      <th>4</th>\n",
       "      <td>6273</td>\n",
       "      <td>FIFA</td>\n",
       "      <td>Negative</td>\n",
       "      <td>Hi @EAHelp I’ve had Madeleine McCann in my cel...</td>\n",
       "    </tr>\n",
       "  </tbody>\n",
       "</table>\n",
       "</div>"
      ],
      "text/plain": [
       "   3364   Facebook Irrelevant  \\\n",
       "0   352     Amazon    Neutral   \n",
       "1  8312  Microsoft   Negative   \n",
       "2  4371      CS-GO   Negative   \n",
       "3  4433     Google    Neutral   \n",
       "4  6273       FIFA   Negative   \n",
       "\n",
       "  I mentioned on Facebook that I was struggling for motivation to go for a run the other day, which has been translated by Tom’s great auntie as ‘Hayley can’t get out of bed’ and told to his grandma, who now thinks I’m a lazy, terrible person 🤣  \n",
       "0  BBC News - Amazon boss Jeff Bezos rejects clai...                                                                                                                                                                                                  \n",
       "1  @Microsoft Why do I pay for WORD when it funct...                                                                                                                                                                                                  \n",
       "2  CSGO matchmaking is so full of closet hacking,...                                                                                                                                                                                                  \n",
       "3  Now the President is slapping Americans in the...                                                                                                                                                                                                  \n",
       "4  Hi @EAHelp I’ve had Madeleine McCann in my cel...                                                                                                                                                                                                  "
      ]
     },
     "execution_count": 39,
     "metadata": {},
     "output_type": "execute_result"
    }
   ],
   "source": [
    "validation.head()"
   ]
  },
  {
   "cell_type": "code",
   "execution_count": 40,
   "id": "075ca4de",
   "metadata": {},
   "outputs": [],
   "source": [
    "validation.rename(columns={'3364':'id','Irrelevant':'Label','I mentioned on Facebook that I was struggling for motivation to go for a run the other day, which has been translated by Tom’s great auntie as ‘Hayley can’t get out of bed’ and told to his grandma, who now thinks I’m a lazy, terrible person 🤣':'tweet_text'},inplace=True)"
   ]
  },
  {
   "cell_type": "markdown",
   "id": "8cf888d2",
   "metadata": {},
   "source": [
    "# Visualising the Dataset"
   ]
  },
  {
   "cell_type": "code",
   "execution_count": 41,
   "id": "64ebca7c",
   "metadata": {
    "scrolled": false
   },
   "outputs": [
    {
     "data": {
      "text/plain": [
       "<seaborn.axisgrid.FacetGrid at 0x13b86fd8910>"
      ]
     },
     "execution_count": 41,
     "metadata": {},
     "output_type": "execute_result"
    },
    {
     "data": {
      "image/png": "[encoded data removed]",
      "text/plain": [
       "<Figure size 500x500 with 1 Axes>"
      ]
     },
     "metadata": {},
     "output_type": "display_data"
    }
   ],
   "source": [
    "sns.catplot(x='Label',data=dataset,kind=\"count\")"
   ]
  },
  {
   "cell_type": "code",
   "execution_count": 42,
   "id": "32a82fc0",
   "metadata": {},
   "outputs": [
    {
     "data": {
      "text/plain": [
       "<seaborn.axisgrid.FacetGrid at 0x13b87022340>"
      ]
     },
     "execution_count": 42,
     "metadata": {},
     "output_type": "execute_result"
    },
    {
     "data": {
      "image/png": "[encoded data removed]",
      "text/plain": [
       "<Figure size 500x500 with 1 Axes>"
      ]
     },
     "metadata": {},
     "output_type": "display_data"
    }
   ],
   "source": [
    "sns.catplot(x='Label',data=validation,kind=\"count\")"
   ]
  },
  {
   "cell_type": "markdown",
   "id": "17fe7b45",
   "metadata": {},
   "source": [
    "# Sanitising Input Data #"
   ]
  },
  {
   "cell_type": "code",
   "execution_count": 43,
   "id": "8528a5b3",
   "metadata": {},
   "outputs": [
    {
     "data": {
      "text/html": [
       "<div>\n",
       "<style scoped>\n",
       "    .dataframe tbody tr th:only-of-type {\n",
       "        vertical-align: middle;\n",
       "    }\n",
       "\n",
       "    .dataframe tbody tr th {\n",
       "        vertical-align: top;\n",
       "    }\n",
       "\n",
       "    .dataframe thead th {\n",
       "        text-align: right;\n",
       "    }\n",
       "</style>\n",
       "<table border=\"1\" class=\"dataframe\">\n",
       "  <thead>\n",
       "    <tr style=\"text-align: right;\">\n",
       "      <th></th>\n",
       "      <th>id</th>\n",
       "      <th>Borderlands</th>\n",
       "      <th>Label</th>\n",
       "      <th>tweet_text</th>\n",
       "      <th>label_Codes</th>\n",
       "    </tr>\n",
       "  </thead>\n",
       "  <tbody>\n",
       "    <tr>\n",
       "      <th>0</th>\n",
       "      <td>2401</td>\n",
       "      <td>Borderlands</td>\n",
       "      <td>Positive</td>\n",
       "      <td>I am coming to the borders and I will kill you...</td>\n",
       "      <td>3</td>\n",
       "    </tr>\n",
       "    <tr>\n",
       "      <th>1</th>\n",
       "      <td>2401</td>\n",
       "      <td>Borderlands</td>\n",
       "      <td>Positive</td>\n",
       "      <td>im getting on borderlands and i will kill you ...</td>\n",
       "      <td>3</td>\n",
       "    </tr>\n",
       "    <tr>\n",
       "      <th>2</th>\n",
       "      <td>2401</td>\n",
       "      <td>Borderlands</td>\n",
       "      <td>Positive</td>\n",
       "      <td>im coming on borderlands and i will murder you...</td>\n",
       "      <td>3</td>\n",
       "    </tr>\n",
       "    <tr>\n",
       "      <th>3</th>\n",
       "      <td>2401</td>\n",
       "      <td>Borderlands</td>\n",
       "      <td>Positive</td>\n",
       "      <td>im getting on borderlands 2 and i will murder ...</td>\n",
       "      <td>3</td>\n",
       "    </tr>\n",
       "    <tr>\n",
       "      <th>4</th>\n",
       "      <td>2401</td>\n",
       "      <td>Borderlands</td>\n",
       "      <td>Positive</td>\n",
       "      <td>im getting into borderlands and i can murder y...</td>\n",
       "      <td>3</td>\n",
       "    </tr>\n",
       "  </tbody>\n",
       "</table>\n",
       "</div>"
      ],
      "text/plain": [
       "     id  Borderlands     Label  \\\n",
       "0  2401  Borderlands  Positive   \n",
       "1  2401  Borderlands  Positive   \n",
       "2  2401  Borderlands  Positive   \n",
       "3  2401  Borderlands  Positive   \n",
       "4  2401  Borderlands  Positive   \n",
       "\n",
       "                                          tweet_text  label_Codes  \n",
       "0  I am coming to the borders and I will kill you...            3  \n",
       "1  im getting on borderlands and i will kill you ...            3  \n",
       "2  im coming on borderlands and i will murder you...            3  \n",
       "3  im getting on borderlands 2 and i will murder ...            3  \n",
       "4  im getting into borderlands and i can murder y...            3  "
      ]
     },
     "execution_count": 43,
     "metadata": {},
     "output_type": "execute_result"
    }
   ],
   "source": [
    "dataset[\"Label\"]=pd.Categorical(dataset[\"Label\"])\n",
    "dataset[\"label_Codes\"]=dataset[\"Label\"].cat.codes\n",
    "dataset.head()"
   ]
  },
  {
   "cell_type": "code",
   "execution_count": 44,
   "id": "38506172",
   "metadata": {},
   "outputs": [],
   "source": [
    "validation[\"Label\"]=pd.Categorical(validation[\"Label\"])\n",
    "validation[\"label_Codes\"]=validation[\"Label\"].cat.codes\n"
   ]
  },
  {
   "cell_type": "code",
   "execution_count": null,
   "id": "2e7b9551",
   "metadata": {
    "scrolled": true
   },
   "outputs": [],
   "source": [
    "#train data\n",
    "dataset['tweet_text'] = dataset['tweet_text'].str.replace(r\"http\\S+\", \"\")\n",
    "dataset['tweet_text'] = dataset['tweet_text'].str.replace(r\"[^A-Za-z0-9(),!?@\\'\\`\\\"\\_\\n]\", \" \")\n",
    "#validation\n",
    "validation['tweet_text'] = validation['tweet_text'].str.replace(r\"http\\S+\", \"\")\n",
    "validation['tweet_text'] = validation['tweet_text'].str.replace(r\"[^A-Za-z0-9(),!?@\\'\\`\\\"\\_\\n]\", \" \")"
   ]
  },
  {
   "cell_type": "code",
   "execution_count": 46,
   "id": "3f45df33",
   "metadata": {},
   "outputs": [],
   "source": [
    "dataset=dataset.dropna(axis=0)"
   ]
  },
  {
   "cell_type": "code",
   "execution_count": 47,
   "id": "82a69bcc",
   "metadata": {},
   "outputs": [
    {
     "data": {
      "text/html": [
       "<div>\n",
       "<style scoped>\n",
       "    .dataframe tbody tr th:only-of-type {\n",
       "        vertical-align: middle;\n",
       "    }\n",
       "\n",
       "    .dataframe tbody tr th {\n",
       "        vertical-align: top;\n",
       "    }\n",
       "\n",
       "    .dataframe thead th {\n",
       "        text-align: right;\n",
       "    }\n",
       "</style>\n",
       "<table border=\"1\" class=\"dataframe\">\n",
       "  <thead>\n",
       "    <tr style=\"text-align: right;\">\n",
       "      <th></th>\n",
       "      <th>id</th>\n",
       "      <th>Borderlands</th>\n",
       "      <th>Label</th>\n",
       "      <th>label_Codes</th>\n",
       "      <th>tweet_text</th>\n",
       "    </tr>\n",
       "  </thead>\n",
       "  <tbody>\n",
       "    <tr>\n",
       "      <th>0</th>\n",
       "      <td>2401</td>\n",
       "      <td>Borderlands</td>\n",
       "      <td>Positive</td>\n",
       "      <td>3</td>\n",
       "      <td>[am, coming, to, the, borders, and, will, kill...</td>\n",
       "    </tr>\n",
       "    <tr>\n",
       "      <th>1</th>\n",
       "      <td>2401</td>\n",
       "      <td>Borderlands</td>\n",
       "      <td>Positive</td>\n",
       "      <td>3</td>\n",
       "      <td>[im, getting, on, borderlands, and, will, kill...</td>\n",
       "    </tr>\n",
       "    <tr>\n",
       "      <th>2</th>\n",
       "      <td>2401</td>\n",
       "      <td>Borderlands</td>\n",
       "      <td>Positive</td>\n",
       "      <td>3</td>\n",
       "      <td>[im, coming, on, borderlands, and, will, murde...</td>\n",
       "    </tr>\n",
       "    <tr>\n",
       "      <th>3</th>\n",
       "      <td>2401</td>\n",
       "      <td>Borderlands</td>\n",
       "      <td>Positive</td>\n",
       "      <td>3</td>\n",
       "      <td>[im, getting, on, borderlands, and, will, murd...</td>\n",
       "    </tr>\n",
       "    <tr>\n",
       "      <th>4</th>\n",
       "      <td>2401</td>\n",
       "      <td>Borderlands</td>\n",
       "      <td>Positive</td>\n",
       "      <td>3</td>\n",
       "      <td>[im, getting, into, borderlands, and, can, mur...</td>\n",
       "    </tr>\n",
       "  </tbody>\n",
       "</table>\n",
       "</div>"
      ],
      "text/plain": [
       "     id  Borderlands     Label  label_Codes  \\\n",
       "0  2401  Borderlands  Positive            3   \n",
       "1  2401  Borderlands  Positive            3   \n",
       "2  2401  Borderlands  Positive            3   \n",
       "3  2401  Borderlands  Positive            3   \n",
       "4  2401  Borderlands  Positive            3   \n",
       "\n",
       "                                          tweet_text  \n",
       "0  [am, coming, to, the, borders, and, will, kill...  \n",
       "1  [im, getting, on, borderlands, and, will, kill...  \n",
       "2  [im, coming, on, borderlands, and, will, murde...  \n",
       "3  [im, getting, on, borderlands, and, will, murd...  \n",
       "4  [im, getting, into, borderlands, and, can, mur...  "
      ]
     },
     "execution_count": 47,
     "metadata": {},
     "output_type": "execute_result"
    }
   ],
   "source": [
    "#Creating lists from sanitised data using the gensim preprocessor\n",
    "#for training dataset\n",
    "tweet_text_tokens=dataset.tweet_text.apply(gensim.utils.simple_preprocess)\n",
    "dataset=dataset.drop('tweet_text',axis=1)\n",
    "dataset=pd.concat([dataset,tweet_text_tokens],axis=1)\n",
    "#for test dataset\n",
    "test_tweet_text_tokens=validation.tweet_text.apply(gensim.utils.simple_preprocess)\n",
    "validation=validation.drop('tweet_text',axis=1)\n",
    "validation=pd.concat([validation,test_tweet_text_tokens],axis=1)\n",
    "dataset.head()"
   ]
  },
  {
   "cell_type": "markdown",
   "id": "b919d7ab",
   "metadata": {},
   "source": [
    "# Using Word2Vec to generate features from tweet Texts #"
   ]
  },
  {
   "cell_type": "code",
   "execution_count": 48,
   "id": "9b149160",
   "metadata": {},
   "outputs": [],
   "source": [
    "total_tokens=pd.concat([tweet_text_tokens,test_tweet_text_tokens],axis=0)"
   ]
  },
  {
   "cell_type": "code",
   "execution_count": 49,
   "id": "c5edab32",
   "metadata": {},
   "outputs": [],
   "source": [
    "vector_size_wv=10"
   ]
  },
  {
   "cell_type": "code",
   "execution_count": 50,
   "id": "1e4cd666",
   "metadata": {},
   "outputs": [
    {
     "data": {
      "text/plain": [
       "(5483264, 6626995)"
      ]
     },
     "execution_count": 50,
     "metadata": {},
     "output_type": "execute_result"
    }
   ],
   "source": [
    "model = gensim.models.Word2Vec(vector_size=vector_size_wv,window=5,min_count=2,workers=8,seed=0)\n",
    "model.build_vocab(total_tokens, progress_per=1000)\n",
    "model.train(total_tokens, total_examples=model.corpus_count, epochs=model.epochs)"
   ]
  },
  {
   "cell_type": "code",
   "execution_count": 51,
   "id": "35ce13c4",
   "metadata": {},
   "outputs": [],
   "source": [
    "model.save(\"./word2vec-tweet_text_run2.model\")"
   ]
  },
  {
   "cell_type": "code",
   "execution_count": 52,
   "id": "34c0485f",
   "metadata": {},
   "outputs": [
    {
     "data": {
      "text/plain": [
       "[('envision', 0.9040116667747498),\n",
       " ('mean', 0.866170346736908),\n",
       " ('lie', 0.8584302067756653),\n",
       " ('understand', 0.8572837114334106),\n",
       " ('bs', 0.8571985960006714),\n",
       " ('fault', 0.8549337983131409),\n",
       " ('think', 0.8494771718978882),\n",
       " ('isn', 0.8471360206604004),\n",
       " ('eyeballing', 0.8408141732215881),\n",
       " ('inventories', 0.8326768279075623)]"
      ]
     },
     "execution_count": 52,
     "metadata": {},
     "output_type": "execute_result"
    }
   ],
   "source": [
    "model.wv.most_similar(\"hate\")"
   ]
  },
  {
   "cell_type": "code",
   "execution_count": 53,
   "id": "50e92e58",
   "metadata": {},
   "outputs": [],
   "source": [
    "vocab=set(model.wv.index_to_key)"
   ]
  },
  {
   "cell_type": "markdown",
   "id": "415c9ca5",
   "metadata": {},
   "source": [
    "# Processing dataset using word2vec #"
   ]
  },
  {
   "cell_type": "code",
   "execution_count": 54,
   "id": "7fcacac7",
   "metadata": {},
   "outputs": [],
   "source": [
    "#making sentence array for train data\n",
    "sen_array=[]\n",
    "for ls in dataset['tweet_text']:\n",
    "    sentence=[]\n",
    "    for i in ls:\n",
    "        if i in vocab:\n",
    "            sentence.append(model.wv[i])\n",
    "    sentence=np.array(sentence)\n",
    "    sen_array.append(sentence)\n",
    "#making sentence array for test data\n",
    "sen_array_test=[]\n",
    "for ls in validation['tweet_text']:\n",
    "    sentence=[]\n",
    "    for i in ls:\n",
    "        if i in vocab:\n",
    "            sentence.append(model.wv[i])\n",
    "    sentence=np.array(sentence)\n",
    "    sen_array_test.append(sentence)"
   ]
  },
  {
   "cell_type": "code",
   "execution_count": 55,
   "id": "a6395546",
   "metadata": {},
   "outputs": [],
   "source": [
    "#making sentence average vectors for train data\n",
    "text_vect_avg = []\n",
    "for v in sen_array:\n",
    "    if v.size:\n",
    "        text_vect_avg.append(v.mean(axis=0))\n",
    "    else:\n",
    "        text_vect_avg.append(np.zeros(vector_size_wv, dtype=float))# the same vector size must be used here as for model training\n",
    "#making sentence average vectors for test data\n",
    "text_vect_avg_test = []\n",
    "for v in sen_array_test:\n",
    "    if v.size:\n",
    "        text_vect_avg_test.append(v.mean(axis=0))\n",
    "    else:\n",
    "        text_vect_avg_test.append(np.zeros(vector_size_wv, dtype=float))"
   ]
  },
  {
   "cell_type": "code",
   "execution_count": 56,
   "id": "437c9295",
   "metadata": {},
   "outputs": [
    {
     "data": {
      "text/html": [
       "<div>\n",
       "<style scoped>\n",
       "    .dataframe tbody tr th:only-of-type {\n",
       "        vertical-align: middle;\n",
       "    }\n",
       "\n",
       "    .dataframe tbody tr th {\n",
       "        vertical-align: top;\n",
       "    }\n",
       "\n",
       "    .dataframe thead th {\n",
       "        text-align: right;\n",
       "    }\n",
       "</style>\n",
       "<table border=\"1\" class=\"dataframe\">\n",
       "  <thead>\n",
       "    <tr style=\"text-align: right;\">\n",
       "      <th></th>\n",
       "      <th>id</th>\n",
       "      <th>Borderlands</th>\n",
       "      <th>Label</th>\n",
       "      <th>label_Codes</th>\n",
       "      <th>tweet_text</th>\n",
       "      <th>sentence_average</th>\n",
       "    </tr>\n",
       "  </thead>\n",
       "  <tbody>\n",
       "    <tr>\n",
       "      <th>0</th>\n",
       "      <td>2401</td>\n",
       "      <td>Borderlands</td>\n",
       "      <td>Positive</td>\n",
       "      <td>3</td>\n",
       "      <td>[am, coming, to, the, borders, and, will, kill...</td>\n",
       "      <td>[1.4945418, -0.24269214, 0.30027682, -0.401684...</td>\n",
       "    </tr>\n",
       "    <tr>\n",
       "      <th>1</th>\n",
       "      <td>2401</td>\n",
       "      <td>Borderlands</td>\n",
       "      <td>Positive</td>\n",
       "      <td>3</td>\n",
       "      <td>[im, getting, on, borderlands, and, will, kill...</td>\n",
       "      <td>[2.1226943, -0.2604661, -0.50906956, -0.495062...</td>\n",
       "    </tr>\n",
       "    <tr>\n",
       "      <th>2</th>\n",
       "      <td>2401</td>\n",
       "      <td>Borderlands</td>\n",
       "      <td>Positive</td>\n",
       "      <td>3</td>\n",
       "      <td>[im, coming, on, borderlands, and, will, murde...</td>\n",
       "      <td>[1.8068693, -0.4442721, -0.10609577, -0.634026...</td>\n",
       "    </tr>\n",
       "    <tr>\n",
       "      <th>3</th>\n",
       "      <td>2401</td>\n",
       "      <td>Borderlands</td>\n",
       "      <td>Positive</td>\n",
       "      <td>3</td>\n",
       "      <td>[im, getting, on, borderlands, and, will, murd...</td>\n",
       "      <td>[1.8559815, -0.058187068, -0.66199845, -0.7629...</td>\n",
       "    </tr>\n",
       "    <tr>\n",
       "      <th>4</th>\n",
       "      <td>2401</td>\n",
       "      <td>Borderlands</td>\n",
       "      <td>Positive</td>\n",
       "      <td>3</td>\n",
       "      <td>[im, getting, into, borderlands, and, can, mur...</td>\n",
       "      <td>[2.1168928, -0.03821626, -0.932686, -0.8359249...</td>\n",
       "    </tr>\n",
       "  </tbody>\n",
       "</table>\n",
       "</div>"
      ],
      "text/plain": [
       "     id  Borderlands     Label  label_Codes  \\\n",
       "0  2401  Borderlands  Positive            3   \n",
       "1  2401  Borderlands  Positive            3   \n",
       "2  2401  Borderlands  Positive            3   \n",
       "3  2401  Borderlands  Positive            3   \n",
       "4  2401  Borderlands  Positive            3   \n",
       "\n",
       "                                          tweet_text  \\\n",
       "0  [am, coming, to, the, borders, and, will, kill...   \n",
       "1  [im, getting, on, borderlands, and, will, kill...   \n",
       "2  [im, coming, on, borderlands, and, will, murde...   \n",
       "3  [im, getting, on, borderlands, and, will, murd...   \n",
       "4  [im, getting, into, borderlands, and, can, mur...   \n",
       "\n",
       "                                    sentence_average  \n",
       "0  [1.4945418, -0.24269214, 0.30027682, -0.401684...  \n",
       "1  [2.1226943, -0.2604661, -0.50906956, -0.495062...  \n",
       "2  [1.8068693, -0.4442721, -0.10609577, -0.634026...  \n",
       "3  [1.8559815, -0.058187068, -0.66199845, -0.7629...  \n",
       "4  [2.1168928, -0.03821626, -0.932686, -0.8359249...  "
      ]
     },
     "execution_count": 56,
     "metadata": {},
     "output_type": "execute_result"
    }
   ],
   "source": [
    "dataset[\"sentence_average\"]=text_vect_avg\n",
    "validation[\"sentence_average\"]=text_vect_avg_test\n",
    "dataset.head()"
   ]
  },
  {
   "cell_type": "code",
   "execution_count": 57,
   "id": "3c86a513",
   "metadata": {},
   "outputs": [],
   "source": [
    "y=dataset[\"label_Codes\"]\n",
    "test_y=validation[\"label_Codes\"]"
   ]
  },
  {
   "cell_type": "code",
   "execution_count": 58,
   "id": "a21dde76",
   "metadata": {},
   "outputs": [
    {
     "data": {
      "text/html": [
       "<div>\n",
       "<style scoped>\n",
       "    .dataframe tbody tr th:only-of-type {\n",
       "        vertical-align: middle;\n",
       "    }\n",
       "\n",
       "    .dataframe tbody tr th {\n",
       "        vertical-align: top;\n",
       "    }\n",
       "\n",
       "    .dataframe thead th {\n",
       "        text-align: right;\n",
       "    }\n",
       "</style>\n",
       "<table border=\"1\" class=\"dataframe\">\n",
       "  <thead>\n",
       "    <tr style=\"text-align: right;\">\n",
       "      <th></th>\n",
       "      <th>Element_1</th>\n",
       "      <th>Element_2</th>\n",
       "      <th>Element_3</th>\n",
       "      <th>Element_4</th>\n",
       "      <th>Element_5</th>\n",
       "      <th>Element_6</th>\n",
       "      <th>Element_7</th>\n",
       "      <th>Element_8</th>\n",
       "      <th>Element_9</th>\n",
       "      <th>Element_10</th>\n",
       "    </tr>\n",
       "  </thead>\n",
       "  <tbody>\n",
       "    <tr>\n",
       "      <th>0</th>\n",
       "      <td>1.494542</td>\n",
       "      <td>-0.242692</td>\n",
       "      <td>0.300277</td>\n",
       "      <td>-0.401684</td>\n",
       "      <td>-0.023541</td>\n",
       "      <td>-1.419871</td>\n",
       "      <td>0.347138</td>\n",
       "      <td>-3.179668</td>\n",
       "      <td>-0.275618</td>\n",
       "      <td>3.157550</td>\n",
       "    </tr>\n",
       "    <tr>\n",
       "      <th>1</th>\n",
       "      <td>2.122694</td>\n",
       "      <td>-0.260466</td>\n",
       "      <td>-0.509070</td>\n",
       "      <td>-0.495063</td>\n",
       "      <td>-0.213043</td>\n",
       "      <td>-1.190740</td>\n",
       "      <td>0.363963</td>\n",
       "      <td>-3.013025</td>\n",
       "      <td>-0.580950</td>\n",
       "      <td>3.208760</td>\n",
       "    </tr>\n",
       "    <tr>\n",
       "      <th>2</th>\n",
       "      <td>1.806869</td>\n",
       "      <td>-0.444272</td>\n",
       "      <td>-0.106096</td>\n",
       "      <td>-0.634027</td>\n",
       "      <td>-0.198421</td>\n",
       "      <td>-0.992691</td>\n",
       "      <td>0.628381</td>\n",
       "      <td>-2.907631</td>\n",
       "      <td>-0.860523</td>\n",
       "      <td>2.858628</td>\n",
       "    </tr>\n",
       "    <tr>\n",
       "      <th>3</th>\n",
       "      <td>1.855981</td>\n",
       "      <td>-0.058187</td>\n",
       "      <td>-0.661998</td>\n",
       "      <td>-0.762924</td>\n",
       "      <td>0.139252</td>\n",
       "      <td>-1.168594</td>\n",
       "      <td>0.561640</td>\n",
       "      <td>-3.043900</td>\n",
       "      <td>-0.726695</td>\n",
       "      <td>3.111508</td>\n",
       "    </tr>\n",
       "    <tr>\n",
       "      <th>4</th>\n",
       "      <td>2.116893</td>\n",
       "      <td>-0.038216</td>\n",
       "      <td>-0.932686</td>\n",
       "      <td>-0.835925</td>\n",
       "      <td>-0.087352</td>\n",
       "      <td>-1.156843</td>\n",
       "      <td>0.404464</td>\n",
       "      <td>-3.014673</td>\n",
       "      <td>-0.696378</td>\n",
       "      <td>3.098598</td>\n",
       "    </tr>\n",
       "  </tbody>\n",
       "</table>\n",
       "</div>"
      ],
      "text/plain": [
       "   Element_1  Element_2  Element_3  Element_4  Element_5  Element_6  \\\n",
       "0   1.494542  -0.242692   0.300277  -0.401684  -0.023541  -1.419871   \n",
       "1   2.122694  -0.260466  -0.509070  -0.495063  -0.213043  -1.190740   \n",
       "2   1.806869  -0.444272  -0.106096  -0.634027  -0.198421  -0.992691   \n",
       "3   1.855981  -0.058187  -0.661998  -0.762924   0.139252  -1.168594   \n",
       "4   2.116893  -0.038216  -0.932686  -0.835925  -0.087352  -1.156843   \n",
       "\n",
       "   Element_7  Element_8  Element_9  Element_10  \n",
       "0   0.347138  -3.179668  -0.275618    3.157550  \n",
       "1   0.363963  -3.013025  -0.580950    3.208760  \n",
       "2   0.628381  -2.907631  -0.860523    2.858628  \n",
       "3   0.561640  -3.043900  -0.726695    3.111508  \n",
       "4   0.404464  -3.014673  -0.696378    3.098598  "
      ]
     },
     "execution_count": 58,
     "metadata": {},
     "output_type": "execute_result"
    }
   ],
   "source": [
    "#converting the sentence average array to a pd dataframe so each value of array can be a feature\n",
    "sentence_average_df=pd.DataFrame(text_vect_avg)\n",
    "sentence_average_df.columns = ['Element_' + str(i+1) for i in range(0, sentence_average_df.shape[1])]\n",
    "sentence_average_df_test=pd.DataFrame(text_vect_avg_test)\n",
    "sentence_average_df_test.columns = ['Element_' + str(i+1) for i in range(0, sentence_average_df_test.shape[1])]\n",
    "sentence_average_df.head()"
   ]
  },
  {
   "cell_type": "code",
   "execution_count": 59,
   "id": "c7e9853d",
   "metadata": {},
   "outputs": [
    {
     "data": {
      "text/html": [
       "<div>\n",
       "<style scoped>\n",
       "    .dataframe tbody tr th:only-of-type {\n",
       "        vertical-align: middle;\n",
       "    }\n",
       "\n",
       "    .dataframe tbody tr th {\n",
       "        vertical-align: top;\n",
       "    }\n",
       "\n",
       "    .dataframe thead th {\n",
       "        text-align: right;\n",
       "    }\n",
       "</style>\n",
       "<table border=\"1\" class=\"dataframe\">\n",
       "  <thead>\n",
       "    <tr style=\"text-align: right;\">\n",
       "      <th></th>\n",
       "      <th>Element_1</th>\n",
       "      <th>Element_2</th>\n",
       "      <th>Element_3</th>\n",
       "      <th>Element_4</th>\n",
       "      <th>Element_5</th>\n",
       "      <th>Element_6</th>\n",
       "      <th>Element_7</th>\n",
       "      <th>Element_8</th>\n",
       "      <th>Element_9</th>\n",
       "      <th>Element_10</th>\n",
       "    </tr>\n",
       "  </thead>\n",
       "  <tbody>\n",
       "    <tr>\n",
       "      <th>0</th>\n",
       "      <td>0.023882</td>\n",
       "      <td>0.234438</td>\n",
       "      <td>1.869475</td>\n",
       "      <td>-1.066573</td>\n",
       "      <td>0.120814</td>\n",
       "      <td>1.328772</td>\n",
       "      <td>0.068134</td>\n",
       "      <td>0.880032</td>\n",
       "      <td>-1.022812</td>\n",
       "      <td>1.063094</td>\n",
       "    </tr>\n",
       "    <tr>\n",
       "      <th>1</th>\n",
       "      <td>1.139982</td>\n",
       "      <td>0.522544</td>\n",
       "      <td>-0.336659</td>\n",
       "      <td>-1.036486</td>\n",
       "      <td>-0.106929</td>\n",
       "      <td>-1.095405</td>\n",
       "      <td>-0.113688</td>\n",
       "      <td>-1.512534</td>\n",
       "      <td>0.065654</td>\n",
       "      <td>3.103839</td>\n",
       "    </tr>\n",
       "    <tr>\n",
       "      <th>2</th>\n",
       "      <td>1.001100</td>\n",
       "      <td>-0.175949</td>\n",
       "      <td>-1.043757</td>\n",
       "      <td>-0.548436</td>\n",
       "      <td>-1.298016</td>\n",
       "      <td>0.194294</td>\n",
       "      <td>0.780545</td>\n",
       "      <td>-0.875793</td>\n",
       "      <td>-0.678026</td>\n",
       "      <td>2.548868</td>\n",
       "    </tr>\n",
       "    <tr>\n",
       "      <th>3</th>\n",
       "      <td>0.912775</td>\n",
       "      <td>0.280907</td>\n",
       "      <td>0.356943</td>\n",
       "      <td>-0.657953</td>\n",
       "      <td>-0.263398</td>\n",
       "      <td>0.083963</td>\n",
       "      <td>0.852793</td>\n",
       "      <td>-0.580248</td>\n",
       "      <td>0.018684</td>\n",
       "      <td>2.286164</td>\n",
       "    </tr>\n",
       "    <tr>\n",
       "      <th>4</th>\n",
       "      <td>1.869725</td>\n",
       "      <td>0.435754</td>\n",
       "      <td>-0.590611</td>\n",
       "      <td>-0.348064</td>\n",
       "      <td>0.190209</td>\n",
       "      <td>-0.955198</td>\n",
       "      <td>1.122008</td>\n",
       "      <td>-1.754163</td>\n",
       "      <td>-0.082472</td>\n",
       "      <td>3.128089</td>\n",
       "    </tr>\n",
       "  </tbody>\n",
       "</table>\n",
       "</div>"
      ],
      "text/plain": [
       "   Element_1  Element_2  Element_3  Element_4  Element_5  Element_6  \\\n",
       "0   0.023882   0.234438   1.869475  -1.066573   0.120814   1.328772   \n",
       "1   1.139982   0.522544  -0.336659  -1.036486  -0.106929  -1.095405   \n",
       "2   1.001100  -0.175949  -1.043757  -0.548436  -1.298016   0.194294   \n",
       "3   0.912775   0.280907   0.356943  -0.657953  -0.263398   0.083963   \n",
       "4   1.869725   0.435754  -0.590611  -0.348064   0.190209  -0.955198   \n",
       "\n",
       "   Element_7  Element_8  Element_9  Element_10  \n",
       "0   0.068134   0.880032  -1.022812    1.063094  \n",
       "1  -0.113688  -1.512534   0.065654    3.103839  \n",
       "2   0.780545  -0.875793  -0.678026    2.548868  \n",
       "3   0.852793  -0.580248   0.018684    2.286164  \n",
       "4   1.122008  -1.754163  -0.082472    3.128089  "
      ]
     },
     "execution_count": 59,
     "metadata": {},
     "output_type": "execute_result"
    }
   ],
   "source": [
    "#combining the dataset with sentence average\n",
    "#X=pd.concat([X,sentence_average_df],axis=1)\n",
    "X=sentence_average_df\n",
    "#test_X=pd.concat([test_X,sentence_average_df_test],axis=1)\n",
    "test_X=sentence_average_df_test\n",
    "test_X.head()"
   ]
  },
  {
   "cell_type": "markdown",
   "id": "ee766a72",
   "metadata": {},
   "source": [
    "# Using Logistic Regression to predict target variables #"
   ]
  },
  {
   "cell_type": "code",
   "execution_count": 60,
   "id": "fbb7e6a5",
   "metadata": {},
   "outputs": [],
   "source": [
    "from sklearn.linear_model import LogisticRegression\n",
    "lr=LogisticRegression(random_state = 0,max_iter=1000)\n",
    "lr.fit(X,y)\n",
    "y_pred_lr=lr.predict(test_X)"
   ]
  },
  {
   "cell_type": "markdown",
   "id": "cfcecc4c",
   "metadata": {},
   "source": [
    "### Accuracy Metrics ###"
   ]
  },
  {
   "cell_type": "code",
   "execution_count": 61,
   "id": "03541371",
   "metadata": {},
   "outputs": [
    {
     "name": "stdout",
     "output_type": "stream",
     "text": [
      "[[  1  66  49  55]\n",
      " [  0 203  27  36]\n",
      " [  1  81 148  55]\n",
      " [  1  85  54 137]]\n"
     ]
    },
    {
     "data": {
      "text/plain": [
       "0.40142686556567375"
      ]
     },
     "execution_count": 61,
     "metadata": {},
     "output_type": "execute_result"
    }
   ],
   "source": [
    "from sklearn.metrics import confusion_matrix, accuracy_score,f1_score\n",
    "cmlr = confusion_matrix(test_y, y_pred_lr)\n",
    "print(cmlr)\n",
    "f1_score(test_y, y_pred_lr,average='macro')"
   ]
  },
  {
   "cell_type": "markdown",
   "id": "21b90924",
   "metadata": {},
   "source": [
    "# Using enseable learning Methods to predict target variable #"
   ]
  },
  {
   "cell_type": "markdown",
   "id": "ffa30554",
   "metadata": {},
   "source": [
    "## XGBOOST ##"
   ]
  },
  {
   "cell_type": "code",
   "execution_count": 62,
   "id": "950c28b7",
   "metadata": {},
   "outputs": [],
   "source": [
    "import xgboost as xgb\n",
    "classifierXGB=xgb.XGBClassifier()"
   ]
  },
  {
   "cell_type": "code",
   "execution_count": 63,
   "id": "39a68316",
   "metadata": {},
   "outputs": [
    {
     "data": {
      "text/html": [
       "<style>#sk-container-id-1 {color: black;background-color: white;}#sk-container-id-1 pre{padding: 0;}#sk-container-id-1 div.sk-toggleable {background-color: white;}#sk-container-id-1 label.sk-toggleable__label {cursor: pointer;display: block;width: 100%;margin-bottom: 0;padding: 0.3em;box-sizing: border-box;text-align: center;}#sk-container-id-1 label.sk-toggleable__label-arrow:before {content: \"▸\";float: left;margin-right: 0.25em;color: #696969;}#sk-container-id-1 label.sk-toggleable__label-arrow:hover:before {color: black;}#sk-container-id-1 div.sk-estimator:hover label.sk-toggleable__label-arrow:before {color: black;}#sk-container-id-1 div.sk-toggleable__content {max-height: 0;max-width: 0;overflow: hidden;text-align: left;background-color: #f0f8ff;}#sk-container-id-1 div.sk-toggleable__content pre {margin: 0.2em;color: black;border-radius: 0.25em;background-color: #f0f8ff;}#sk-container-id-1 input.sk-toggleable__control:checked~div.sk-toggleable__content {max-height: 200px;max-width: 100%;overflow: auto;}#sk-container-id-1 input.sk-toggleable__control:checked~label.sk-toggleable__label-arrow:before {content: \"▾\";}#sk-container-id-1 div.sk-estimator input.sk-toggleable__control:checked~label.sk-toggleable__label {background-color: #d4ebff;}#sk-container-id-1 div.sk-label input.sk-toggleable__control:checked~label.sk-toggleable__label {background-color: #d4ebff;}#sk-container-id-1 input.sk-hidden--visually {border: 0;clip: rect(1px 1px 1px 1px);clip: rect(1px, 1px, 1px, 1px);height: 1px;margin: -1px;overflow: hidden;padding: 0;position: absolute;width: 1px;}#sk-container-id-1 div.sk-estimator {font-family: monospace;background-color: #f0f8ff;border: 1px dotted black;border-radius: 0.25em;box-sizing: border-box;margin-bottom: 0.5em;}#sk-container-id-1 div.sk-estimator:hover {background-color: #d4ebff;}#sk-container-id-1 div.sk-parallel-item::after {content: \"\";width: 100%;border-bottom: 1px solid gray;flex-grow: 1;}#sk-container-id-1 div.sk-label:hover label.sk-toggleable__label {background-color: #d4ebff;}#sk-container-id-1 div.sk-serial::before {content: \"\";position: absolute;border-left: 1px solid gray;box-sizing: border-box;top: 0;bottom: 0;left: 50%;z-index: 0;}#sk-container-id-1 div.sk-serial {display: flex;flex-direction: column;align-items: center;background-color: white;padding-right: 0.2em;padding-left: 0.2em;position: relative;}#sk-container-id-1 div.sk-item {position: relative;z-index: 1;}#sk-container-id-1 div.sk-parallel {display: flex;align-items: stretch;justify-content: center;background-color: white;position: relative;}#sk-container-id-1 div.sk-item::before, #sk-container-id-1 div.sk-parallel-item::before {content: \"\";position: absolute;border-left: 1px solid gray;box-sizing: border-box;top: 0;bottom: 0;left: 50%;z-index: -1;}#sk-container-id-1 div.sk-parallel-item {display: flex;flex-direction: column;z-index: 1;position: relative;background-color: white;}#sk-container-id-1 div.sk-parallel-item:first-child::after {align-self: flex-end;width: 50%;}#sk-container-id-1 div.sk-parallel-item:last-child::after {align-self: flex-start;width: 50%;}#sk-container-id-1 div.sk-parallel-item:only-child::after {width: 0;}#sk-container-id-1 div.sk-dashed-wrapped {border: 1px dashed gray;margin: 0 0.4em 0.5em 0.4em;box-sizing: border-box;padding-bottom: 0.4em;background-color: white;}#sk-container-id-1 div.sk-label label {font-family: monospace;font-weight: bold;display: inline-block;line-height: 1.2em;}#sk-container-id-1 div.sk-label-container {text-align: center;}#sk-container-id-1 div.sk-container {/* jupyter's `normalize.less` sets `[hidden] { display: none; }` but bootstrap.min.css set `[hidden] { display: none !important; }` so we also need the `!important` here to be able to override the default hidden behavior on the sphinx rendered scikit-learn.org. See: https://github.com/scikit-learn/scikit-learn/issues/21755 */display: inline-block !important;position: relative;}#sk-container-id-1 div.sk-text-repr-fallback {display: none;}</style><div id=\"sk-container-id-1\" class=\"sk-top-container\"><div class=\"sk-text-repr-fallback\"><pre>XGBClassifier(base_score=None, booster=None, callbacks=None,\n",
       "              colsample_bylevel=None, colsample_bynode=None,\n",
       "              colsample_bytree=None, early_stopping_rounds=None,\n",
       "              enable_categorical=False, eval_metric=None, feature_types=None,\n",
       "              gamma=None, gpu_id=None, grow_policy=None, importance_type=None,\n",
       "              interaction_constraints=None, learning_rate=None, max_bin=None,\n",
       "              max_cat_threshold=None, max_cat_to_onehot=None,\n",
       "              max_delta_step=None, max_depth=None, max_leaves=None,\n",
       "              min_child_weight=None, missing=nan, monotone_constraints=None,\n",
       "              n_estimators=100, n_jobs=None, num_parallel_tree=None,\n",
       "              objective=&#x27;multi:softprob&#x27;, predictor=None, ...)</pre><b>In a Jupyter environment, please rerun this cell to show the HTML representation or trust the notebook. <br />On GitHub, the HTML representation is unable to render, please try loading this page with nbviewer.org.</b></div><div class=\"sk-container\" hidden><div class=\"sk-item\"><div class=\"sk-estimator sk-toggleable\"><input class=\"sk-toggleable__control sk-hidden--visually\" id=\"sk-estimator-id-1\" type=\"checkbox\" checked><label for=\"sk-estimator-id-1\" class=\"sk-toggleable__label sk-toggleable__label-arrow\">XGBClassifier</label><div class=\"sk-toggleable__content\"><pre>XGBClassifier(base_score=None, booster=None, callbacks=None,\n",
       "              colsample_bylevel=None, colsample_bynode=None,\n",
       "              colsample_bytree=None, early_stopping_rounds=None,\n",
       "              enable_categorical=False, eval_metric=None, feature_types=None,\n",
       "              gamma=None, gpu_id=None, grow_policy=None, importance_type=None,\n",
       "              interaction_constraints=None, learning_rate=None, max_bin=None,\n",
       "              max_cat_threshold=None, max_cat_to_onehot=None,\n",
       "              max_delta_step=None, max_depth=None, max_leaves=None,\n",
       "              min_child_weight=None, missing=nan, monotone_constraints=None,\n",
       "              n_estimators=100, n_jobs=None, num_parallel_tree=None,\n",
       "              objective=&#x27;multi:softprob&#x27;, predictor=None, ...)</pre></div></div></div></div></div>"
      ],
      "text/plain": [
       "XGBClassifier(base_score=None, booster=None, callbacks=None,\n",
       "              colsample_bylevel=None, colsample_bynode=None,\n",
       "              colsample_bytree=None, early_stopping_rounds=None,\n",
       "              enable_categorical=False, eval_metric=None, feature_types=None,\n",
       "              gamma=None, gpu_id=None, grow_policy=None, importance_type=None,\n",
       "              interaction_constraints=None, learning_rate=None, max_bin=None,\n",
       "              max_cat_threshold=None, max_cat_to_onehot=None,\n",
       "              max_delta_step=None, max_depth=None, max_leaves=None,\n",
       "              min_child_weight=None, missing=nan, monotone_constraints=None,\n",
       "              n_estimators=100, n_jobs=None, num_parallel_tree=None,\n",
       "              objective='multi:softprob', predictor=None, ...)"
      ]
     },
     "execution_count": 63,
     "metadata": {},
     "output_type": "execute_result"
    }
   ],
   "source": [
    "classifierXGB.fit(X,y)"
   ]
  },
  {
   "cell_type": "code",
   "execution_count": 64,
   "id": "f13b4bec",
   "metadata": {},
   "outputs": [],
   "source": [
    "y_predXGB=classifierXGB.predict(test_X)"
   ]
  },
  {
   "cell_type": "markdown",
   "id": "ec1c37df",
   "metadata": {},
   "source": [
    "## Accuracy Metrics ##"
   ]
  },
  {
   "cell_type": "code",
   "execution_count": 65,
   "id": "4f33f10b",
   "metadata": {},
   "outputs": [
    {
     "name": "stdout",
     "output_type": "stream",
     "text": [
      "[[ 46  38  36  51]\n",
      " [  5 221  14  26]\n",
      " [ 11  60 155  59]\n",
      " [  4  42  34 197]]\n"
     ]
    },
    {
     "data": {
      "text/plain": [
       "0.5826586313540512"
      ]
     },
     "execution_count": 65,
     "metadata": {},
     "output_type": "execute_result"
    }
   ],
   "source": [
    "cmXGB = confusion_matrix(test_y, y_predXGB)\n",
    "print(cmXGB)\n",
    "f1_score(test_y, y_predXGB,average='macro')"
   ]
  },
  {
   "cell_type": "markdown",
   "id": "bf7d8644",
   "metadata": {},
   "source": [
    "## Random Forest ##"
   ]
  },
  {
   "cell_type": "code",
   "execution_count": 66,
   "id": "b53fb1bc",
   "metadata": {},
   "outputs": [
    {
     "data": {
      "text/html": [
       "<style>#sk-container-id-2 {color: black;background-color: white;}#sk-container-id-2 pre{padding: 0;}#sk-container-id-2 div.sk-toggleable {background-color: white;}#sk-container-id-2 label.sk-toggleable__label {cursor: pointer;display: block;width: 100%;margin-bottom: 0;padding: 0.3em;box-sizing: border-box;text-align: center;}#sk-container-id-2 label.sk-toggleable__label-arrow:before {content: \"▸\";float: left;margin-right: 0.25em;color: #696969;}#sk-container-id-2 label.sk-toggleable__label-arrow:hover:before {color: black;}#sk-container-id-2 div.sk-estimator:hover label.sk-toggleable__label-arrow:before {color: black;}#sk-container-id-2 div.sk-toggleable__content {max-height: 0;max-width: 0;overflow: hidden;text-align: left;background-color: #f0f8ff;}#sk-container-id-2 div.sk-toggleable__content pre {margin: 0.2em;color: black;border-radius: 0.25em;background-color: #f0f8ff;}#sk-container-id-2 input.sk-toggleable__control:checked~div.sk-toggleable__content {max-height: 200px;max-width: 100%;overflow: auto;}#sk-container-id-2 input.sk-toggleable__control:checked~label.sk-toggleable__label-arrow:before {content: \"▾\";}#sk-container-id-2 div.sk-estimator input.sk-toggleable__control:checked~label.sk-toggleable__label {background-color: #d4ebff;}#sk-container-id-2 div.sk-label input.sk-toggleable__control:checked~label.sk-toggleable__label {background-color: #d4ebff;}#sk-container-id-2 input.sk-hidden--visually {border: 0;clip: rect(1px 1px 1px 1px);clip: rect(1px, 1px, 1px, 1px);height: 1px;margin: -1px;overflow: hidden;padding: 0;position: absolute;width: 1px;}#sk-container-id-2 div.sk-estimator {font-family: monospace;background-color: #f0f8ff;border: 1px dotted black;border-radius: 0.25em;box-sizing: border-box;margin-bottom: 0.5em;}#sk-container-id-2 div.sk-estimator:hover {background-color: #d4ebff;}#sk-container-id-2 div.sk-parallel-item::after {content: \"\";width: 100%;border-bottom: 1px solid gray;flex-grow: 1;}#sk-container-id-2 div.sk-label:hover label.sk-toggleable__label {background-color: #d4ebff;}#sk-container-id-2 div.sk-serial::before {content: \"\";position: absolute;border-left: 1px solid gray;box-sizing: border-box;top: 0;bottom: 0;left: 50%;z-index: 0;}#sk-container-id-2 div.sk-serial {display: flex;flex-direction: column;align-items: center;background-color: white;padding-right: 0.2em;padding-left: 0.2em;position: relative;}#sk-container-id-2 div.sk-item {position: relative;z-index: 1;}#sk-container-id-2 div.sk-parallel {display: flex;align-items: stretch;justify-content: center;background-color: white;position: relative;}#sk-container-id-2 div.sk-item::before, #sk-container-id-2 div.sk-parallel-item::before {content: \"\";position: absolute;border-left: 1px solid gray;box-sizing: border-box;top: 0;bottom: 0;left: 50%;z-index: -1;}#sk-container-id-2 div.sk-parallel-item {display: flex;flex-direction: column;z-index: 1;position: relative;background-color: white;}#sk-container-id-2 div.sk-parallel-item:first-child::after {align-self: flex-end;width: 50%;}#sk-container-id-2 div.sk-parallel-item:last-child::after {align-self: flex-start;width: 50%;}#sk-container-id-2 div.sk-parallel-item:only-child::after {width: 0;}#sk-container-id-2 div.sk-dashed-wrapped {border: 1px dashed gray;margin: 0 0.4em 0.5em 0.4em;box-sizing: border-box;padding-bottom: 0.4em;background-color: white;}#sk-container-id-2 div.sk-label label {font-family: monospace;font-weight: bold;display: inline-block;line-height: 1.2em;}#sk-container-id-2 div.sk-label-container {text-align: center;}#sk-container-id-2 div.sk-container {/* jupyter's `normalize.less` sets `[hidden] { display: none; }` but bootstrap.min.css set `[hidden] { display: none !important; }` so we also need the `!important` here to be able to override the default hidden behavior on the sphinx rendered scikit-learn.org. See: https://github.com/scikit-learn/scikit-learn/issues/21755 */display: inline-block !important;position: relative;}#sk-container-id-2 div.sk-text-repr-fallback {display: none;}</style><div id=\"sk-container-id-2\" class=\"sk-top-container\"><div class=\"sk-text-repr-fallback\"><pre>RandomForestClassifier(random_state=0)</pre><b>In a Jupyter environment, please rerun this cell to show the HTML representation or trust the notebook. <br />On GitHub, the HTML representation is unable to render, please try loading this page with nbviewer.org.</b></div><div class=\"sk-container\" hidden><div class=\"sk-item\"><div class=\"sk-estimator sk-toggleable\"><input class=\"sk-toggleable__control sk-hidden--visually\" id=\"sk-estimator-id-2\" type=\"checkbox\" checked><label for=\"sk-estimator-id-2\" class=\"sk-toggleable__label sk-toggleable__label-arrow\">RandomForestClassifier</label><div class=\"sk-toggleable__content\"><pre>RandomForestClassifier(random_state=0)</pre></div></div></div></div></div>"
      ],
      "text/plain": [
       "RandomForestClassifier(random_state=0)"
      ]
     },
     "execution_count": 66,
     "metadata": {},
     "output_type": "execute_result"
    }
   ],
   "source": [
    "from sklearn.ensemble import RandomForestClassifier\n",
    "classifierRF = RandomForestClassifier(n_estimators=100,criterion = 'gini', random_state = 0)\n",
    "classifierRF.fit(X, y)"
   ]
  },
  {
   "cell_type": "code",
   "execution_count": 67,
   "id": "92119e4d",
   "metadata": {},
   "outputs": [],
   "source": [
    "y_predRF=classifierRF.predict(test_X)"
   ]
  },
  {
   "cell_type": "markdown",
   "id": "c8ab9f89",
   "metadata": {},
   "source": [
    "## Accuracy Metrics ##"
   ]
  },
  {
   "cell_type": "code",
   "execution_count": 68,
   "id": "3a1f13c3",
   "metadata": {},
   "outputs": [
    {
     "name": "stdout",
     "output_type": "stream",
     "text": [
      "[[137   7  11  16]\n",
      " [  1 252   7   6]\n",
      " [  0  14 247  24]\n",
      " [  3  12  18 244]]\n"
     ]
    },
    {
     "data": {
      "text/plain": [
       "0.880823544133105"
      ]
     },
     "execution_count": 68,
     "metadata": {},
     "output_type": "execute_result"
    }
   ],
   "source": [
    "cmRF = confusion_matrix(test_y, y_predRF)\n",
    "print(cmRF)\n",
    "f1_score(test_y, y_predRF,average='macro')"
   ]
  },
  {
   "cell_type": "markdown",
   "id": "d8d91039",
   "metadata": {},
   "source": [
    "# Using Cross Validation #"
   ]
  },
  {
   "cell_type": "code",
   "execution_count": 76,
   "id": "5ccc6a4f",
   "metadata": {},
   "outputs": [
    {
     "name": "stdout",
     "output_type": "stream",
     "text": [
      "[0.42217422 0.41152766 0.3945956  0.3814583  0.43465219]\n",
      "[0.39230168 0.37802663 0.37451951 0.36935206 0.41604957]\n",
      "[0.43019961 0.41036499 0.39234339 0.39090419 0.4436174 ]\n"
     ]
    }
   ],
   "source": [
    "from sklearn.model_selection import cross_validate\n",
    "RF = RandomForestClassifier(n_estimators = 100, criterion = 'gini', random_state = 0)\n",
    "LR=LogisticRegression(random_state = 0,max_iter=1000)\n",
    "XGB=xgb.XGBClassifier()\n",
    "RFscores=cross_validate(RF,X,y,scoring=\"f1_macro\")\n",
    "LRscores=cross_validate(LR,X,y,scoring=\"f1_macro\")\n",
    "XGBscores=cross_validate(XGB,X,y,scoring=\"f1_macro\")\n",
    "print(RFscores['test_score'])\n",
    "print(LRscores['test_score'])\n",
    "print(XGBscores['test_score'])"
   ]
  },
  {
   "cell_type": "markdown",
   "id": "63b34455",
   "metadata": {},
   "source": [
    "# Using Tf-IDF for word embeddings"
   ]
  },
  {
   "cell_type": "markdown",
   "id": "7a8364d4",
   "metadata": {},
   "source": [
    "## For Training Set"
   ]
  },
  {
   "cell_type": "code",
   "execution_count": 70,
   "id": "6a9d4c05",
   "metadata": {},
   "outputs": [
    {
     "name": "stderr",
     "output_type": "stream",
     "text": [
      "[nltk_data] Downloading package stopwords to\n",
      "[nltk_data]     C:\\Users\\Aayush\\AppData\\Roaming\\nltk_data...\n",
      "[nltk_data]   Package stopwords is already up-to-date!\n"
     ]
    }
   ],
   "source": [
    "import nltk\n",
    "nltk.download(\"stopwords\")\n",
    "from nltk.corpus import stopwords\n",
    "from nltk.stem.porter import PorterStemmer\n",
    "corpus=[]\n",
    "for i in range(0,73995):\n",
    "    tweet=re.sub('[^a-zA-Z]',' ',str(dataset['tweet_text'].iloc[i]))\n",
    "    tweet=tweet.lower()\n",
    "    tweet=tweet.split()\n",
    "    ps=PorterStemmer()\n",
    "    all_stopwords = stopwords.words('english')\n",
    "    all_stopwords.remove('not')\n",
    "    tweet = [ps.stem(word) for word in tweet if not word in set(all_stopwords)]\n",
    "    tweet=' '.join(tweet)\n",
    "    corpus.append(tweet)"
   ]
  },
  {
   "cell_type": "code",
   "execution_count": 71,
   "id": "ac8517c3",
   "metadata": {
    "scrolled": true
   },
   "outputs": [
    {
     "name": "stdout",
     "output_type": "stream",
     "text": [
      "[[0. 0. 0. ... 0. 0. 0.]\n",
      " [0. 0. 0. ... 0. 0. 0.]\n",
      " [0. 0. 0. ... 0. 0. 0.]\n",
      " ...\n",
      " [0. 0. 0. ... 0. 0. 0.]\n",
      " [0. 0. 0. ... 0. 0. 0.]\n",
      " [0. 0. 0. ... 0. 0. 0.]]\n"
     ]
    }
   ],
   "source": [
    "from sklearn.feature_extraction.text import TfidfVectorizer\n",
    "tfidf=TfidfVectorizer(max_features=1000)\n",
    "new_text=tfidf.fit_transform(corpus).toarray()\n",
    "print(new_text)"
   ]
  },
  {
   "cell_type": "markdown",
   "id": "ce44f021",
   "metadata": {},
   "source": [
    "## For Test Set"
   ]
  },
  {
   "cell_type": "code",
   "execution_count": 72,
   "id": "5f457525",
   "metadata": {},
   "outputs": [],
   "source": [
    "corpus2=[]\n",
    "for i in range(0,999):\n",
    "    tweet=re.sub('[^a-zA-Z]',' ',str(validation['tweet_text'].iloc[i]))\n",
    "    tweet=tweet.lower()\n",
    "    tweet=tweet.split()\n",
    "    ps=PorterStemmer()\n",
    "    all_stopwords = stopwords.words('english')\n",
    "    all_stopwords.remove('not')\n",
    "    tweet = [ps.stem(word) for word in tweet if not word in set(all_stopwords)]\n",
    "    tweet=' '.join(tweet)\n",
    "    corpus2.append(tweet)\n",
    "new_text_test=tfidf.transform(corpus2).toarray()"
   ]
  },
  {
   "cell_type": "code",
   "execution_count": 73,
   "id": "a73c9627",
   "metadata": {},
   "outputs": [],
   "source": [
    "tfidf_X=new_text\n",
    "tfidf_y=dataset[\"label_Codes\"]\n",
    "tfidf_test_X=new_text_test\n",
    "tfidf_test_y=validation[\"label_Codes\"]"
   ]
  },
  {
   "cell_type": "markdown",
   "id": "bac7f913",
   "metadata": {},
   "source": [
    "# Training Models"
   ]
  },
  {
   "cell_type": "code",
   "execution_count": 74,
   "id": "cd404694",
   "metadata": {},
   "outputs": [],
   "source": [
    "from sklearn.linear_model import LogisticRegression\n",
    "lr_tfidf=LogisticRegression(random_state = 0,max_iter=1000)\n",
    "lr_tfidf.fit(tfidf_X,tfidf_y)\n",
    "y_lr_tfidf_pred=lr_tfidf.predict(tfidf_test_X)"
   ]
  },
  {
   "cell_type": "code",
   "execution_count": 75,
   "id": "6c6b7a80",
   "metadata": {},
   "outputs": [
    {
     "name": "stdout",
     "output_type": "stream",
     "text": [
      "[[ 82  35  16  38]\n",
      " [ 13 208  22  23]\n",
      " [ 23  49 176  37]\n",
      " [ 14  27  31 205]]\n"
     ]
    },
    {
     "data": {
      "text/plain": [
       "0.6558531829110041"
      ]
     },
     "execution_count": 75,
     "metadata": {},
     "output_type": "execute_result"
    }
   ],
   "source": [
    "from sklearn.metrics import confusion_matrix, f1_score\n",
    "cmlr_tfidf = confusion_matrix(tfidf_test_y, y_lr_tfidf_pred)\n",
    "print(cmlr_tfidf)\n",
    "f1_score(tfidf_test_y, y_lr_tfidf_pred,average='macro')"
   ]
  },
  {
   "cell_type": "code",
   "execution_count": null,
   "id": "c4ecbbbe",
   "metadata": {},
   "outputs": [],
   "source": []
  }
 ],
 "metadata": {
  "kernelspec": {
   "display_name": "Python 3 (ipykernel)",
   "language": "python",
   "name": "python3"
  },
  "language_info": {
   "codemirror_mode": {
    "name": "ipython",
    "version": 3
   },
   "file_extension": ".py",
   "mimetype": "text/x-python",
   "name": "python",
   "nbconvert_exporter": "python",
   "pygments_lexer": "ipython3",
   "version": "3.9.12"
  },
  "vscode": {
   "interpreter": {
    "hash": "775bc1239030012f7f3fc0138e0da83b8ebf90b5718977940651f2d283deddd9"
   }
  }
 },
 "nbformat": 4,
 "nbformat_minor": 5
}
